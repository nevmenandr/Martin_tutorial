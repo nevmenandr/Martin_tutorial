{
 "metadata": {
  "name": ""
 },
 "nbformat": 3,
 "nbformat_minor": 0,
 "worksheets": [
  {
   "cells": [
    {
     "cell_type": "code",
     "collapsed": false,
     "input": [
      "import sys\n",
      "import gensim, logging\n",
      "\n",
      "logging.basicConfig(format='%(asctime)s : %(levelname)s : %(message)s', level=logging.INFO)\n",
      "our_model = 'model/SIF.model'\n",
      "model = gensim.models.Word2Vec.load(our_model)\n",
      "model.init_sims(replace=True)"
     ],
     "language": "python",
     "metadata": {},
     "outputs": [],
     "prompt_number": 1
    },
    {
     "cell_type": "code",
     "collapsed": false,
     "input": [
      "words = ['baratheon', 'lannister', 'stark', 'targarien', 'tully', 'greyjoy', 'martell', 'tyrell', 'jorah']"
     ],
     "language": "python",
     "metadata": {},
     "outputs": [],
     "prompt_number": 50
    },
    {
     "cell_type": "code",
     "collapsed": false,
     "input": [
      "for word in words:\n",
      "    if word in model:\n",
      "        print word\n",
      "        print model[word][:10]\n",
      "        for i in model.most_similar(positive=[word], topn=10):\n",
      "            print i[0], i[1],\n",
      "        print '\\n'\n",
      "    else:\n",
      "        print word + ' is not present in the model'"
     ],
     "language": "python",
     "metadata": {},
     "outputs": [
      {
       "output_type": "stream",
       "stream": "stdout",
       "text": [
        "baratheon\n",
        "[-0.07335325 -0.03382615 -0.01050175  0.00522927 -0.06139424 -0.01475878\n",
        " -0.00418599 -0.05087443 -0.03427754 -0.02489995]\n",
        "king 0.891986250877 lannister's 0.845309078693 snorted 0.833714365959 baratheon\u2019s 0.827335357666 son 0.79130756855 slain 0.785003960133 refused 0.783438444138 late 0.779534459114 always 0.767040014267 owes 0.763491094112 \n",
        "\n",
        "lannister\n",
        "[ 0.00470527  0.02404378 -0.0048752   0.00662347 -0.08523097 -0.02122174\n",
        " -0.06081533 -0.02627348 -0.00405804 -0.00188891]\n",
        "daughter 0.824918866158 bannermen 0.822652220726 son 0.820072948933 heir 0.798885583878 shrugged 0.790264844894 snorted 0.774667263031 lannister's 0.758772015572 bristled 0.747966945171 murdered 0.746363282204 admitted 0.743313014507 \n",
        "\n",
        "stark\n",
        "[-0.00625584 -0.04567324  0.00654277  0.06244192 -0.06968977  0.00773081\n",
        " -0.04214469  0.02837576  0.00453954  0.00883034]\n",
        "nodded"
       ]
      },
      {
       "output_type": "stream",
       "stream": "stdout",
       "text": [
        " 0.886359035969 sighed 0.872868657112 frowned 0.869725286961 scowled 0.859003782272 admitted 0.853886365891 repeated 0.853841483593 commanded 0.849797844887 ignored 0.84765791893 murdered 0.845931112766 glanced 0.841508626938 \n",
        "\n",
        "targarien is not present in the model\n",
        "tully\n",
        "[-0.03181757 -0.02228253  0.01908971  0.06421475 -0.07698556 -0.04786286\n",
        " -0.05872884 -0.1330688   0.03222612 -0.02941185]\n",
        "nephew 0.854384958744 brandon 0.845854103565 tully's 0.822918534279 command 0.816212952137 master 0.815804600716 thanks 0.795910835266 mormont 0.791628956795 frey 0.78485417366 lady 0.780310094357 proposed 0.777647733688 \n",
        "\n",
        "greyjoy\n",
        "[-0.03568439  0.05509414  0.02631312  0.07991493 -0.10826968 -0.02847739\n",
        " -0.0685579  -0.12647171 -0.03222528 -0.01533238]\n",
        "alyx 0.775906562805 bethany 0.75530731678 tully 0.740154623985 edwyn 0.73613011837 guilty 0.734845817089 lady 0.731332182884 greyjoy's 0.724123120308 snort 0.717176675797 torrhen 0.711454570293 shrug 0.694177865982 \n",
        "\n",
        "martell\n",
        "[-0.00082163 -0.01436809 -0.01900338 -0.01867251 -0.0172289  -0.07337409\n",
        " -0.03261943 -0.0540725   0.06772586  0.0060661 ]\n",
        "lefthand"
       ]
      },
      {
       "output_type": "stream",
       "stream": "stdout",
       "text": [
        " 0.814042270184 street 0.755942046642 pyke 0.734558820724 renowned 0.733749687672 doran\u2019s 0.731710672379 daxos 0.731074094772 fetched 0.728625178337 treat 0.724231600761 steward 0.720665276051 blunt 0.719602525234 \n",
        "\n",
        "tyrell\n",
        "[-0.08037121 -0.00792198  0.02714595 -0.04692531  0.04122003 -0.06685021\n",
        " -0.04051378 -0.07991873 -0.01099215 -0.00795732]\n",
        "steward 0.849699795246 daughter 0.741973996162 tyrell\u2019s 0.740592300892 house 0.707777380943 page 0.700557887554 greyjoy\u2019s 0.698355197906 service 0.693955659866 father\u2019s 0.693102002144 marches 0.691830396652 merlyn 0.691404163837 \n",
        "\n",
        "jorah\n",
        "[ 0.0648095   0.01736131  0.0137413  -0.03835102 -0.07983944  0.0075386\n",
        "  0.04067583  0.0448935  -0.0754844   0.06236839]\n",
        "wendel 0.981957316399 robar 0.979112684727 arys 0.976301729679 dontos 0.97459769249 balman 0.971305549145 colen 0.96948325634 wylis 0.968827784061 barristan 0.966674983501 stevron 0.965714991093 mandon\u2019s 0.965442180634 \n",
        "\n"
       ]
      }
     ],
     "prompt_number": 51
    },
    {
     "cell_type": "code",
     "collapsed": false,
     "input": [
      "# \u043d\u0430\u0445\u043e\u0434\u0438\u043c \u043a\u043e\u0441\u0438\u043d\u0443\u0441\u043d\u0443\u044e \u0431\u043b\u0438\u0437\u043e\u0441\u0442\u044c \u043f\u0430\u0440\u044b \u0441\u043b\u043e\u0432\n",
      "print model.similarity(u'stark', u'lannister')"
     ],
     "language": "python",
     "metadata": {},
     "outputs": [
      {
       "output_type": "stream",
       "stream": "stdout",
       "text": [
        "0.700658978073\n"
       ]
      }
     ],
     "prompt_number": 46
    },
    {
     "cell_type": "code",
     "collapsed": false,
     "input": [
      "# \u043d\u0430\u0439\u0434\u0438 \u043b\u0438\u0448\u043d\u0435\u0435\n",
      "print model.doesnt_match(u'arryn baratheon tyrell lannister stark throne'.split())"
     ],
     "language": "python",
     "metadata": {},
     "outputs": [
      {
       "output_type": "stream",
       "stream": "stdout",
       "text": [
        "throne\n"
       ]
      }
     ],
     "prompt_number": 42
    },
    {
     "cell_type": "code",
     "collapsed": false,
     "input": [
      "f = open('geonames_longlist.txt')\n",
      "geonames = []\n",
      "for name in f:\n",
      "    name = name.strip()\n",
      "    name = name.lower()\n",
      "    geonames.append(name)\n",
      "f.close()\n"
     ],
     "language": "python",
     "metadata": {},
     "outputs": [],
     "prompt_number": 10
    },
    {
     "cell_type": "code",
     "collapsed": false,
     "input": [
      "fw = open('table_dist_geo.csv', 'w')\n",
      "geon = ','.join(geonames)\n",
      "fw.write(',' + geon + '\\n')\n",
      "for name1 in geonames:\n",
      "    name1 = name1.strip()\n",
      "    line = []\n",
      "    for name2 in geonames:\n",
      "        #print name1, name2\n",
      "        name2 = name2.strip()\n",
      "        if name1 == name2:\n",
      "            line.append('0')\n",
      "        else:\n",
      "            dist = model.similarity(name1, name2)\n",
      "            dist = float(dist)\n",
      "            dist = 1 - dist\n",
      "            line.append(str(dist))\n",
      "    line = ','.join(line)\n",
      "    fw.write(name1 + ',' + line + '\\n')\n",
      "fw.close()"
     ],
     "language": "python",
     "metadata": {},
     "outputs": [],
     "prompt_number": 11
    },
    {
     "cell_type": "code",
     "collapsed": false,
     "input": [
      "# \u0440\u0435\u0448\u0438 \u043f\u0440\u043e\u043f\u043e\u0440\u0446\u0438\u044e\n",
      "print model.most_similar(positive=['woman', 'king'], negative=['man'])[0][0] "
     ],
     "language": "python",
     "metadata": {},
     "outputs": [
      {
       "output_type": "stream",
       "stream": "stdout",
       "text": [
        "quietly\n"
       ]
      }
     ],
     "prompt_number": 5
    },
    {
     "cell_type": "code",
     "collapsed": false,
     "input": [],
     "language": "python",
     "metadata": {},
     "outputs": []
    }
   ],
   "metadata": {}
  }
 ]
}