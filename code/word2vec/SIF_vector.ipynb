{
 "metadata": {
  "name": ""
 },
 "nbformat": 3,
 "nbformat_minor": 0,
 "worksheets": [
  {
   "cells": [
    {
     "cell_type": "code",
     "collapsed": false,
     "input": [
      "import sys\n",
      "import gensim, logging\n",
      "\n",
      "logging.basicConfig(format='%(asctime)s : %(levelname)s : %(message)s', level=logging.INFO)\n",
      "our_model = 'model/SIF.model'\n",
      "model = gensim.models.Word2Vec.load(our_model)\n",
      "model.init_sims(replace=True)"
     ],
     "language": "python",
     "metadata": {},
     "outputs": [],
     "prompt_number": 2
    },
    {
     "cell_type": "code",
     "collapsed": false,
     "input": [
      "words = ['power', 'love', 'war', 'death', 'honor', 'family', 'house']"
     ],
     "language": "python",
     "metadata": {},
     "outputs": [],
     "prompt_number": 3
    },
    {
     "cell_type": "code",
     "collapsed": false,
     "input": [
      "for word in words:\n",
      "    if word in model:\n",
      "        print word\n",
      "        print model[word][:10]\n",
      "        for i in model.most_similar(positive=[word], topn=10):\n",
      "            print i[0], i[1],\n",
      "        print '\\n'\n",
      "    else:\n",
      "        print word + ' is not present in the model'"
     ],
     "language": "python",
     "metadata": {},
     "outputs": [
      {
       "output_type": "stream",
       "stream": "stdout",
       "text": [
        "power\n",
        "[-0.10260099 -0.05012566  0.01447721 -0.01444841  0.03248034 -0.00140644\n",
        "  0.05606669  0.0085744  -0.03781493  0.00074516]\n",
        "affair 0.756996750832 hal 0.751295745373 knocked 0.736586689949 wonder 0.726796150208 family 0.719474852085 ned\u2019s 0.714010775089 groaned 0.713684856892 khalasar 0.707082808018 cohollo 0.70332056284 stormed 0.701388418674 \n",
        "\n",
        "love\n",
        "[ 0.00364395 -0.08835521 -0.04117532 -0.0124061  -0.07775435  0.00861186\n",
        " -0.04597803  0.06614802 -0.00702073  0.02153878]\n",
        "fear 0.889316380024 true 0.874600291252 know 0.874486625195 pray 0.874229848385 loved 0.872097492218 say 0.865709245205 done 0.858017146587 sense 0.855023801327 perhaps 0.851852297783 afraid 0.847160696983 \n",
        "\n",
        "war\n",
        "[-0.0472607  -0.00184987 -0.06371435 -0.05586544  0.01432062  0.00109909\n",
        "  0.01875388  0.06258871 -0.00492479 -0.04414408]\n",
        "lesson 0.850260794163 sooner 0.808535277843 need 0.781090080738 duty 0.765523374081 home 0.760394096375 care 0.757120668888 wherever 0.755787968636 hoped 0.754598498344 cocks "
       ]
      },
      {
       "output_type": "stream",
       "stream": "stdout",
       "text": [
        "0.754439353943 usurper 0.753355622292 \n",
        "\n",
        "death\n",
        "[-0.03037107 -0.00173782 -0.02979512  0.00866604 -0.04384324 -0.02080795\n",
        " -0.03982431 -0.10292217  0.00627683  0.00266864]\n",
        "gifts 0.773361980915 lords 0.771311640739 starve 0.762403070927 one's 0.75241714716 rear 0.751550674438 training 0.745201468468 isle 0.738517642021 osmynd 0.735470175743 buy 0.733550727367 greater 0.731699943542 \n",
        "\n",
        "honor\n",
        "[-0.02499086  0.02531624  0.06053397  0.01449343 -0.06975317  0.0140729\n",
        "  0.0137617  -0.09771705 -0.0088121  -0.01150288]\n",
        "always 0.829125225544 brusquely 0.809113204479 courage 0.797544956207 coldly 0.795567035675 robb 0.78990983963 viserys 0.786763012409 prisoner 0.781063735485 dryly 0.774678587914 chataya 0.774336993694 proud 0.765498101711 \n",
        "\n",
        "family\n",
        "[-0.05926068 -0.12633771 -0.01807918  0.0242239   0.04652477  0.01694054\n",
        "  0.05320898  0.01897671  0.0703971  -0.03094718]\n",
        "attacked"
       ]
      },
      {
       "output_type": "stream",
       "stream": "stdout",
       "text": [
        " 0.791242361069 western 0.749232649803 rhaego 0.739459633827 upset 0.735591232777 eyebrow 0.733278751373 vivid 0.724009633064 build 0.722647428513 amid 0.721493899822 ned\u2019s 0.719856977463 power 0.719474852085 \n",
        "\n",
        "house\n",
        "[-0.09368607  0.0071716   0.08791594  0.01748661 -0.02774774 -0.04069199\n",
        " -0.02741854 -0.10319205 -0.06357712 -0.04198752]\n",
        "butcher\u2019s 0.797457158566 cassel 0.795901119709 brandon 0.784098863602 lady 0.782214820385 benjen 0.770745813847 \u2013ser 0.764593183994 alyx 0.756706118584 oddly 0.753146648407 robb\u2019s 0.752225279808 grunted 0.750421106815 \n",
        "\n"
       ]
      }
     ],
     "prompt_number": 4
    },
    {
     "cell_type": "code",
     "collapsed": false,
     "input": [
      "# \u043d\u0430\u0445\u043e\u0434\u0438\u043c \u043a\u043e\u0441\u0438\u043d\u0443\u0441\u043d\u0443\u044e \u0431\u043b\u0438\u0437\u043e\u0441\u0442\u044c \u043f\u0430\u0440\u044b \u0441\u043b\u043e\u0432\n",
      "print model.similarity(u'stark', u'lannister')"
     ],
     "language": "python",
     "metadata": {},
     "outputs": [
      {
       "output_type": "stream",
       "stream": "stdout",
       "text": [
        "0.700658978073\n"
       ]
      },
      {
       "metadata": {},
       "output_type": "pyout",
       "prompt_number": 9,
       "text": [
        "float"
       ]
      }
     ],
     "prompt_number": 9
    },
    {
     "cell_type": "code",
     "collapsed": false,
     "input": [
      "# \u043d\u0430\u0439\u0434\u0438 \u043b\u0438\u0448\u043d\u0435\u0435\n",
      "print model.doesnt_match(u'arryn baratheon tyrell lannister stark throne'.split())"
     ],
     "language": "python",
     "metadata": {},
     "outputs": [
      {
       "output_type": "stream",
       "stream": "stdout",
       "text": [
        "throne\n"
       ]
      }
     ],
     "prompt_number": 6
    },
    {
     "cell_type": "code",
     "collapsed": false,
     "input": [
      "f = open('geonames.txt')\n",
      "geonames = []\n",
      "for name in f:\n",
      "    name = name.strip()\n",
      "    name = name.lower()\n",
      "    geonames.append(name)\n",
      "f.close()\n"
     ],
     "language": "python",
     "metadata": {},
     "outputs": [],
     "prompt_number": 22
    },
    {
     "cell_type": "code",
     "collapsed": false,
     "input": [
      "fw = open('table_dist.csv', 'w')\n",
      "geon = ','.join(geonames)\n",
      "fw.write(',' + geon + '\\n')\n",
      "for name1 in geonames:\n",
      "    name1 = name1.strip()\n",
      "    line = []\n",
      "    for name2 in geonames:\n",
      "        #print name1, name2\n",
      "        name2 = name2.strip()\n",
      "        if name1 == name2:\n",
      "            line.append('0')\n",
      "        else:\n",
      "            dist = model.similarity(name1, name2)\n",
      "            dist = float(dist)\n",
      "            dist = 1 - dist\n",
      "            line.append(str(dist))\n",
      "    line = ','.join(line)\n",
      "    fw.write(name1 + ',' + line + '\\n')\n",
      "fw.close()"
     ],
     "language": "python",
     "metadata": {},
     "outputs": [],
     "prompt_number": 28
    },
    {
     "cell_type": "code",
     "collapsed": false,
     "input": [],
     "language": "python",
     "metadata": {},
     "outputs": []
    }
   ],
   "metadata": {}
  }
 ]
}