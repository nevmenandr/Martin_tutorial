{
 "metadata": {
  "name": ""
 },
 "nbformat": 3,
 "nbformat_minor": 0,
 "worksheets": [
  {
   "cells": [
    {
     "cell_type": "code",
     "collapsed": false,
     "input": [
      "import sys\n",
      "import gensim, logging\n",
      "\n",
      "logging.basicConfig(format='%(asctime)s : %(levelname)s : %(message)s', level=logging.INFO)\n",
      "our_model = 'model/SIF.model'\n",
      "model = gensim.models.Word2Vec.load(our_model)\n",
      "model.init_sims(replace=True)"
     ],
     "language": "python",
     "metadata": {},
     "outputs": [],
     "prompt_number": 1
    },
    {
     "cell_type": "code",
     "collapsed": false,
     "input": [
      "words = ['daenerys', 'jon', 'bran', 'robb', 'catelyn', 'arya', 'sansa', 'tyrion', 'varys', 'viserys', 'rickon', 'robert', 'jaime', 'cersei','tywin', 'renly', 'stannis', 'brienne', 'eddard', 'petyr', 'melisandre', 'joffrey']"
     ],
     "language": "python",
     "metadata": {},
     "outputs": [],
     "prompt_number": 18
    },
    {
     "cell_type": "code",
     "collapsed": false,
     "input": [
      "for word in words:\n",
      "    if word in model:\n",
      "        print word\n",
      "        print model[word][:10]\n",
      "        for i in model.most_similar(positive=[word], topn=10):\n",
      "            print i[0], i[1],\n",
      "        print '\\n'\n",
      "    else:\n",
      "        print word + ' is not present in the model'"
     ],
     "language": "python",
     "metadata": {},
     "outputs": [
      {
       "output_type": "stream",
       "stream": "stdout",
       "text": [
        "daenerys\n",
        "[-0.00730558  0.07558061  0.04135324  0.01099935 -0.01493275  0.02006687\n",
        " -0.01028319 -0.04889759 -0.03729426  0.01848981]\n",
        "pet 0.757155120373 i've 0.740991413593 jaqen 0.736253976822 i\u2019ve 0.72823625803 scouts 0.727260351181 lemoncloak 0.726353108883 arianne 0.71390324831 balk 0.711620807648 brusco 0.708672881126 enemy 0.706559956074 \n",
        "\n",
        "jon\n",
        "[-0.05967507 -0.00412048  0.05800164  0.03514782 -0.01624019  0.0332921\n",
        " -0.00937163 -0.03896989 -0.06505118 -0.01219235]\n",
        "intruder 0.831737935543 sam 0.817408978939 dany 0.814223468304 ygritte 0.810925841331 translator 0.797614812851 jojen 0.788078308105 tyrion 0.775884866714 davos 0.775502622128 scornfully 0.770949423313 meera 0.770937025547 \n",
        "\n",
        "bran\n",
        "[-0.05934511  0.01659108  0.03552844  0.00391488 -0.00495385  0.03129\n",
        "  0.02872077 -0.02693018 -0.09418551 -0.04145092]\n",
        "arya"
       ]
      },
      {
       "output_type": "stream",
       "stream": "stdout",
       "text": [
        " 0.96910238266 theon 0.918810546398 catelyn 0.918605446815 dany 0.911567628384 jojen 0.904823303223 sam 0.902977764606 sansa 0.899297833443 bitterly 0.89549022913 gruffly 0.891449987888 bluntly 0.884308993816 \n",
        "\n",
        "robb\n",
        "[-0.05528501  0.01049379  0.04170965  0.03804659 -0.05028008  0.01022185\n",
        "  0.00769509 -0.06427246 -0.00632005 -0.04884269]\n",
        "letter 0.919305920601 incredulous 0.903213799 ned 0.892458975315 coldly 0.890852987766 dryly 0.878873348236 wearily 0.873405337334 sansa 0.871696591377 brusquely 0.860820233822 varys 0.857895433903 joffrey 0.846799492836 \n",
        "\n",
        "catelyn\n",
        "[-0.06709372 -0.0086211   0.0457525   0.00875612 -0.02218896  0.00076505\n",
        "  0.01575734 -0.0322663  -0.09497654 -0.05967578]\n",
        "sansa 0.971914231777 bran 0.918605446815 bluntly 0.909534037113 arya 0.909123718739 wearily 0.908740997314 curtly 0.906450033188 stubbornly 0.904635429382 sharply 0.897650182247 theon 0.895835280418 bitterly 0.892704486847 \n",
        "\n",
        "arya\n",
        "[-0.06456786  0.03914395  0.02474253  0.00089972 -0.00528603  0.03203632\n",
        "  0.02175529 -0.00669603 -0.08378176 -0.05607349]\n",
        "bran"
       ]
      },
      {
       "output_type": "stream",
       "stream": "stdout",
       "text": [
        " 0.96910238266 sam 0.90979295969 catelyn 0.909123718739 sansa 0.908852696419 dany 0.897934257984 theon 0.895906925201 bitterly 0.876730203629 tyrion 0.874860107899 jojen 0.872599542141 cersei 0.870021998882 \n",
        "\n",
        "sansa\n",
        "[-0.05741931 -0.00549158  0.01994759  0.01315706 -0.04737688  0.00183149\n",
        " -0.00294781 -0.03370979 -0.06876764 -0.05198989]\n",
        "catelyn 0.971914172173 arya 0.908852636814 bran 0.899297833443 bluntly 0.887104034424 wearily 0.877228319645 curtly 0.875085771084 m\u2019lord 0.872541427612 sharply 0.872149467468 robb 0.871696531773 cersei 0.86474776268 \n",
        "\n",
        "tyrion\n",
        "[-0.08321819  0.06276957  0.08107332 -0.02034897 -0.01252599  0.02474786\n",
        "  0.01059868 -0.05487671 -0.14846037 -0.06693494]\n",
        "dany 0.936293125153 cersei 0.901674807072 jojen 0.89196908474 brienne 0.887498259544 lem 0.88549977541 jaime 0.884822666645 arya 0.874859988689 davos 0.866878330708 bran 0.863980412483 sam 0.85894960165 \n",
        "\n",
        "varys\n",
        "[-0.07109948 -0.00789505  0.02616555  0.01966355 -0.01601039 -0.01846507\n",
        " -0.0152384  -0.05628279  0.00841936 -0.02129417]\n",
        "renly"
       ]
      },
      {
       "output_type": "stream",
       "stream": "stdout",
       "text": [
        " 0.904446601868 yes 0.890801608562 winterfell 0.890756428242 father 0.88910484314 robb 0.857895433903 stannis 0.846592187881 riverrun 0.844872713089 cripple 0.840683817863 brusquely 0.831597924232 eddard 0.82729113102 \n",
        "\n",
        "viserys\n",
        "[-0.04718158  0.0114772   0.0203041   0.03612122 -0.08044078  0.00524306\n",
        " -0.04797586 -0.0126526  -0.05633628 -0.02285295]\n",
        "swear 0.896084308624 promise 0.893340289593 nymeria 0.892459154129 ned 0.884903430939 snarks 0.872407138348 always 0.870716750622 prisoner 0.8622148633 claim 0.848725736141 coldly 0.847763538361 dryly 0.846103072166 \n",
        "\n",
        "rickon\n",
        "[ 0.03126574 -0.03412299 -0.00987432 -0.00962993 -0.06343878  0.00385759\n",
        "  0.02400206  0.07534361 -0.01327592  0.07062943]\n",
        "speaks 0.896794557571 figured 0.857427716255 unfamiliar 0.855725169182 negligently 0.8443749547 dispose 0.837924718857 objected 0.834838092327 shout 0.821187078953 meera\u2019s 0.809751331806 squeezed 0.809489548206 groped 0.806975066662 \n",
        "\n",
        "robert\n",
        "[ 0.00064621 -0.00138702  0.00705325  0.01098487 -0.04415001 -0.01347475\n",
        " -0.04166823  0.02243896  0.05095467  0.0077581 ]\n",
        "rightful 0.882541835308 consent 0.87892216444 stannis 0.877232909203 renly 0.873113036156 dutiful 0.866183519363 entrusted 0.862055838108 pleases 0.836271882057 approve 0.835283517838 result 0.82932716608 husband 0.819670557976 \n",
        "\n",
        "jaime\n",
        "[-0.03429914  0.07656304  0.09947623 -0.02581746 -0.05505819  0.00827718\n",
        "  0.00917802 -0.03156989 -0.15802428 -0.02623959]\n",
        "jojen"
       ]
      },
      {
       "output_type": "stream",
       "stream": "stdout",
       "text": [
        " 0.897553920746 tyrion 0.88482272625 davos 0.879411101341 cersei 0.87832069397 scornfully 0.876429259777 alleras 0.868931174278 meera 0.861885130405 victarion 0.861291468143 dany 0.857355475426 brienne 0.850209653378 \n",
        "\n",
        "cersei\n",
        "[-0.07417165  0.03737655  0.09817949 -0.00617774 -0.05957503  0.00773921\n",
        " -0.01006933 -0.04431812 -0.12573959 -0.04069539]\n",
        "tyrion 0.901674866676 reluctantly 0.888766109943 lem 0.887358367443 jaime 0.878320753574 catelyn 0.876519203186 curtly 0.875156760216 arya 0.870021998882 brienne 0.864772617817 sansa 0.864747822285 jojen 0.864196121693 \n",
        "\n",
        "tywin\n",
        "[-0.02088581  0.03003994  0.01061356  0.03241072  0.01521191 -0.02112581\n",
        " -0.03020857 -0.03202279  0.08421585 -0.00450417]\n",
        "crossing 0.962191104889 harrenhal 0.942414879799 commander 0.933480858803 hoster 0.931303203106 tywin\u2019s 0.930264234543 rickard\u2019s 0.926847279072 commander\u2019s 0.926635801792 eddard\u2019s 0.926238059998 beric 0.923748254776 alester 0.9221534729 \n",
        "\n",
        "renly\n",
        "[-0.03906201 -0.00953036 -0.00711188  0.00707093  0.0024354  -0.0204801\n",
        " -0.01066481 -0.00565419  0.06554499 -0.01455471]\n",
        "stannis "
       ]
      },
      {
       "output_type": "stream",
       "stream": "stdout",
       "text": [
        "0.915492117405 varys 0.904446542263 consent 0.894246697426 robert 0.873112976551 riverrun 0.867960631847 harrenhal 0.861342430115 winterfell 0.859180092812 dutiful 0.859001815319 father 0.858141958714 liege 0.857849895954 \n",
        "\n",
        "stannis\n",
        "[-0.04552918  0.00637158  0.02972315  0.01142271  0.01033383 -0.01549278\n",
        "  0.00993162 -0.03526112  0.06776268 -0.01123492]\n",
        "renly 0.915492117405 robert 0.877232789993 eddard 0.849651396275 varys 0.846592068672 dutiful 0.832645714283 winterfell 0.831732332706 harrenhal 0.827114522457 entrusted 0.817238032818 riverrun 0.814255595207 sends 0.812468767166 \n",
        "\n",
        "brienne\n",
        "[-0.06203903  0.03257719  0.07402957 -0.02036415  0.01013559 -0.00355393\n",
        "  0.0426533  -0.04509486 -0.08811715 -0.0534587 ]\n",
        "scornfully 0.916103959084 jojen 0.912981808186 davos 0.898787796497 meera 0.895694315434 melisandre 0.89408916235 reluctantly 0.892333447933 tyrion 0.887498319149 dany 0.883576631546 calmly 0.879501402378 hopefully 0.875625789165 \n",
        "\n",
        "eddard\n",
        "[-0.04552524 -0.02098282  0.00067383  0.05655859 -0.00737144 -0.03187896\n",
        " -0.02766214 -0.07134466  0.09706947 -0.02820585]\n",
        "winterfell 0.944510102272 greyjoy\u2019s 0.908976376057 brandon 0.894406914711 riverrun 0.887829124928 eyrie 0.879864037037 goldengrove 0.871934235096 reeled 0.869522452354 lefford 0.867622256279 rickard\u2019s 0.859275817871 liking 0.857151329517 \n",
        "\n",
        "petyr\n",
        "[-0.04336626  0.01078813  0.01509761  0.07573047 -0.01968162 -0.04020631\n",
        " -0.0475186  -0.1219533   0.08828683 -0.02621059]\n",
        "redfort"
       ]
      },
      {
       "output_type": "stream",
       "stream": "stdout",
       "text": [
        " 0.931218206882 petyr\u2019s 0.901127278805 crossing 0.893649339676 nestor 0.882966339588 nestor\u2019s 0.880410373211 tywin 0.874606072903 toast 0.868236482143 wyman 0.867658674717 husband 0.867402613163 liege 0.866313874722 \n",
        "\n",
        "melisandre\n",
        "[-0.08749373 -0.01615082  0.06253532  0.00734056 -0.0149828  -0.03348166\n",
        "  0.04434614 -0.05448341 -0.09697378 -0.036811  ]\n",
        "sharply 0.911495923996 hopefully 0.906874060631 scornfully 0.902373671532 defensively 0.894263386726 brienne 0.89408916235 bluntly 0.891511619091 calmly 0.890742897987 brorm 0.889102458954 jojen 0.884296178818 reluctantly 0.882230818272 \n",
        "\n",
        "joffrey\n",
        "[-0.04109176 -0.02402461  0.04905157  0.02685048 -0.04765735  0.00940031\n",
        "  0.0012642   0.01470873 -0.00711467 -0.03610198]\n",
        "imp"
       ]
      },
      {
       "output_type": "stream",
       "stream": "stdout",
       "text": [
        " 0.86546754837 robb 0.846799373627 betrayed 0.82883143425 incredulous 0.813985705376 you\u2019re 0.81160223484 brother 0.808009803295 brusquely 0.80527305603 lysa 0.802618503571 viserys 0.795945584774 nephew 0.794167816639 \n",
        "\n"
       ]
      }
     ],
     "prompt_number": 19
    },
    {
     "cell_type": "code",
     "collapsed": false,
     "input": [
      "# \u043d\u0430\u0445\u043e\u0434\u0438\u043c \u043a\u043e\u0441\u0438\u043d\u0443\u0441\u043d\u0443\u044e \u0431\u043b\u0438\u0437\u043e\u0441\u0442\u044c \u043f\u0430\u0440\u044b \u0441\u043b\u043e\u0432\n",
      "print model.similarity(u'stark', u'lannister')"
     ],
     "language": "python",
     "metadata": {},
     "outputs": [
      {
       "output_type": "stream",
       "stream": "stdout",
       "text": [
        "0.700658978073\n"
       ]
      },
      {
       "metadata": {},
       "output_type": "pyout",
       "prompt_number": 9,
       "text": [
        "float"
       ]
      }
     ],
     "prompt_number": 9
    },
    {
     "cell_type": "code",
     "collapsed": false,
     "input": [
      "# \u043d\u0430\u0439\u0434\u0438 \u043b\u0438\u0448\u043d\u0435\u0435\n",
      "print model.doesnt_match(u'arryn baratheon tyrell lannister stark throne'.split())"
     ],
     "language": "python",
     "metadata": {},
     "outputs": [
      {
       "output_type": "stream",
       "stream": "stdout",
       "text": [
        "throne\n"
       ]
      }
     ],
     "prompt_number": 4
    },
    {
     "cell_type": "code",
     "collapsed": false,
     "input": [
      "f = open('geonames.txt')\n",
      "geonames = []\n",
      "for name in f:\n",
      "    name = name.strip()\n",
      "    name = name.lower()\n",
      "    geonames.append(name)\n",
      "f.close()\n"
     ],
     "language": "python",
     "metadata": {},
     "outputs": [],
     "prompt_number": 17
    },
    {
     "cell_type": "code",
     "collapsed": false,
     "input": [
      "fw = open('table_dist.csv', 'w')\n",
      "geon = ','.join(geonames)\n",
      "fw.write(',' + geon + '\\n')\n",
      "for name1 in geonames:\n",
      "    name1 = name1.strip()\n",
      "    line = []\n",
      "    for name2 in geonames:\n",
      "        #print name1, name2\n",
      "        name2 = name2.strip()\n",
      "        if name1 == name2:\n",
      "            line.append('0')\n",
      "        else:\n",
      "            dist = model.similarity(name1, name2)\n",
      "            dist = float(dist)\n",
      "            dist = 1 - dist\n",
      "            line.append(str(dist))\n",
      "    line = ','.join(line)\n",
      "    fw.write(name1 + ',' + line + '\\n')\n",
      "fw.close()"
     ],
     "language": "python",
     "metadata": {},
     "outputs": [],
     "prompt_number": 16
    },
    {
     "cell_type": "code",
     "collapsed": false,
     "input": [
      "# \u0440\u0435\u0448\u0438 \u043f\u0440\u043e\u043f\u043e\u0440\u0446\u0438\u044e\n",
      "print model.most_similar(positive=['woman', 'king'], negative=['man'])[0][0] "
     ],
     "language": "python",
     "metadata": {},
     "outputs": [
      {
       "output_type": "stream",
       "stream": "stdout",
       "text": [
        "quietly\n"
       ]
      }
     ],
     "prompt_number": 5
    },
    {
     "cell_type": "code",
     "collapsed": false,
     "input": [],
     "language": "python",
     "metadata": {},
     "outputs": []
    }
   ],
   "metadata": {}
  }
 ]
}